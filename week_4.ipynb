{
  "nbformat": 4,
  "nbformat_minor": 0,
  "metadata": {
    "colab": {
      "provenance": [],
      "authorship_tag": "ABX9TyN68SImp3oES+EIvfmZyTFB"
    },
    "kernelspec": {
      "name": "python3",
      "display_name": "Python 3"
    },
    "language_info": {
      "name": "python"
    }
  },
  "cells": [
    {
      "cell_type": "markdown",
      "source": [
        "#Magic square: Hit and trial\n"
      ],
      "metadata": {
        "id": "O99Y1PH1JpOQ"
      }
    },
    {
      "cell_type": "markdown",
      "source": [
        "**Fact:-**\n",
        "\n",
        "*M = n(n^2+1)/2*\n",
        "\n",
        "**Steps:-**\n",
        "\n",
        "In any magic square,\n",
        "1. 1 is located at position (n/2, n-1).\n",
        "\n",
        "2.   Let's say the position of 1 i.e. (n/2, n-1) is (p, q), then next number which is 2 is located at (p-1, q+1) position. Anytime if the calculated row position becomes -1 then make it n-1 and if column position becomes n then make it 0.\n",
        "3.   If the calculated position already contains a number then decrement the column by 2 and increment the row by 1.\n",
        "4.   If anytime row position becomes -1 and column becomes n, switch it to (0, n-2)."
      ],
      "metadata": {
        "id": "UR65fDT2Jqis"
      }
    },
    {
      "cell_type": "code",
      "execution_count": 1,
      "metadata": {
        "colab": {
          "base_uri": "https://localhost:8080/"
        },
        "id": "nSH2uE4FJLbe",
        "outputId": "31004dcc-dd1a-44e7-e30e-f15a068962d4"
      },
      "outputs": [
        {
          "output_type": "stream",
          "name": "stdout",
          "text": [
            "[0, 0, 0]\n"
          ]
        }
      ],
      "source": [
        "# m = n(n^2+1)/2\n",
        "def magic_square(n):\n",
        "  magicSquare = [];\n",
        "  for i in range(n):\n",
        "    l = []\n",
        "    for j in range(n):\n",
        "      l.append(0)\n",
        "    magicSquare.append(l)\n",
        "  for i in range(n):\n",
        "    print(magicSquare[i])\n",
        "#magic_square(4)\n",
        "\n",
        "magic = [0 for i in range(3)]\n",
        "#magic = [[0 for i in range(3)] for j in range(3)]\n",
        "print(magic)"
      ]
    },
    {
      "cell_type": "code",
      "source": [
        "from ast import Continue\n",
        "def magic_square(n):\n",
        "  #Initialize magic square with zeros\n",
        "  magicSquare = [[0]*n for _ in range(n)]\n",
        "\n",
        "  # Initial position\n",
        "  i = n//2\n",
        "  j = n-1\n",
        "\n",
        "  num = n*n\n",
        "  count = 1\n",
        "\n",
        "  while count<=num:\n",
        "    # condition 4: If both row and column are out of bounds\n",
        "    if(i == -1 and j == n):\n",
        "      j = n-2\n",
        "      i = 0\n",
        "    else:\n",
        "      if(j == n):     #column value is exceeding\n",
        "        j = 0;\n",
        "      if(i<0):        #row is becoming -1\n",
        "        i = n-1\n",
        "\n",
        "    # condition 2: if current cell is already filled\n",
        "    if magicSquare[i][j] != 0:\n",
        "      j -= 2\n",
        "      i += 1\n",
        "      continue\n",
        "    else:\n",
        "      # place the current Number\n",
        "      magicSquare[i][j] = count\n",
        "      count += 1\n",
        "    # Move to next position\n",
        "    i -= 1\n",
        "    j += 1\n",
        "\n",
        "\n",
        "  sum = n*((n**2)+1)//2\n",
        "  print(\"Sum of each row/col/diagnol: \"+str(sum))\n",
        "  # print magic square\n",
        "  for row in magicSquare:\n",
        "    print(\" \".join(str(x) for x in row))\n",
        "\n",
        "\n",
        "n = int(input())\n",
        "magic_square(n)\n"
      ],
      "metadata": {
        "colab": {
          "base_uri": "https://localhost:8080/"
        },
        "id": "b4M9ydzWJxtt",
        "outputId": "9c78b2b5-55f4-421d-b6aa-3f36f1238be0"
      },
      "execution_count": 5,
      "outputs": [
        {
          "output_type": "stream",
          "name": "stdout",
          "text": [
            "3\n",
            "Sum of each row/col/diagnol: 15\n",
            "2 7 6\n",
            "9 5 1\n",
            "4 3 8\n"
          ]
        }
      ]
    },
    {
      "cell_type": "markdown",
      "source": [
        "#Dobble Game"
      ],
      "metadata": {
        "id": "B5gVLlaWJ0S_"
      }
    },
    {
      "cell_type": "code",
      "source": [
        "# alphabet as symbol\n",
        "# definite number of symbols\n",
        "# Only 1 common symbol\n",
        "import string\n",
        "import random\n",
        "symbols = []\n",
        "# print(string.ascii_letters)\n",
        "symbols = list(string.ascii_letters)\n",
        "card1 = [0]*5\n",
        "card2 = [0]*5\n",
        "pos1 = random.randint(0,4)\n",
        "pos2 = random.randint(0,4)\n",
        "# pos1 and pos2 are same symbol positions in card1 and card2\n",
        "sameSymbol = random.choice(symbols)\n",
        "symbols.remove(sameSymbol)\n",
        "if(pos1 == pos2):\n",
        "  card2[pos1] = sameSymbol\n",
        "  card1[pos1] = sameSymbol\n",
        "else:\n",
        "  card1[pos1] = sameSymbol\n",
        "  card2[pos2] = sameSymbol\n",
        "  card1[pos2] = random.choice(symbols)\n",
        "  symbols.remove(card1[pos2])\n",
        "  card2[pos1] = random.choice(symbols)\n",
        "  symbols.remove(card2[pos1])\n",
        "i = 0\n",
        "while(i<5):\n",
        "  if(i != pos1 and i!=pos2):\n",
        "    alphabet1 = random.choice(symbols)\n",
        "    symbols.remove(alphabet1)\n",
        "    alphabet2 = random.choice(symbols)\n",
        "    symbols.remove(alphabet2)\n",
        "    card1[i] = alphabet1\n",
        "    card2[i] = alphabet2\n",
        "  i+=1\n",
        "print(card1)\n",
        "print(card2)\n",
        "ch = input(\"Spot the similar symbols\\n\")\n",
        "if(ch == sameSymbol):\n",
        "  print(\"Right\")\n",
        "else:\n",
        "  print(\"Wrong\")"
      ],
      "metadata": {
        "colab": {
          "base_uri": "https://localhost:8080/"
        },
        "id": "Jy25RXbcJ21c",
        "outputId": "c0bc6467-955d-478e-b835-98893d061f36"
      },
      "execution_count": 6,
      "outputs": [
        {
          "output_type": "stream",
          "name": "stdout",
          "text": [
            "['O', 'D', 's', 'E', 'q']\n",
            "['Y', 'H', 'S', 'r', 'E']\n",
            "Spot the similar symbols\n",
            "s\n",
            "Wrong\n"
          ]
        }
      ]
    },
    {
      "cell_type": "markdown",
      "source": [
        "#Birthday Paradox"
      ],
      "metadata": {
        "id": "xNpCIgXHKl8T"
      }
    },
    {
      "cell_type": "code",
      "source": [
        "\n",
        "# century year are not leap years unless they are divided by 400\n",
        "'''if year is divisible by 400 then is_leap_year\n",
        "else if year is divisible by 100 then not_leap_year\n",
        "else if year is divisible by 4 then is_leap_year\n",
        "else not_leap_year'''\n",
        "\n",
        "import random\n",
        "year = random.randint(1993,2024)\n",
        "print(year)\n",
        "if(year%4 == 0 and year%100 != 0 or year%400 == 0):\n",
        "  print(\"Leap year\")\n",
        "else:\n",
        "  print(\"not a leap year\")"
      ],
      "metadata": {
        "colab": {
          "base_uri": "https://localhost:8080/"
        },
        "id": "Kx11bvs6KRWc",
        "outputId": "908b7703-269a-41ef-ff33-0e0fc9892e14"
      },
      "execution_count": 7,
      "outputs": [
        {
          "output_type": "stream",
          "name": "stdout",
          "text": [
            "1994\n",
            "not a leap year\n"
          ]
        }
      ]
    },
    {
      "cell_type": "code",
      "source": [
        "# Generate birth date\n",
        "import random\n",
        "import datetime\n",
        "def checkLeapYear(year):\n",
        "  if(year%4 == 0 and year%100 != 0 or year%400 == 0):\n",
        "    return True\n",
        "  else:\n",
        "    return False;\n",
        "\n",
        "birthday = []\n",
        "i = 0\n",
        "while(i<50):\n",
        "  year = random.randint(1902,2024)\n",
        "  month = random.randint(1,12)\n",
        "  if(month == 2 and checkLeapYear(year)):\n",
        "    day = random.randint(1,29)\n",
        "  elif(month == 2 and not checkLeapYear(year)):\n",
        "    day = random.randint(1,28)\n",
        "  elif((month == 7 or month == 8) and (month%2 != 0 and month<7) and (month%2 == 0 and month>7 and month<12)):\n",
        "    day = random.randint(1,31)\n",
        "  else:\n",
        "    day = random.randint(1,30)\n",
        "  dd = datetime.date(year,month,day)\n",
        "  day_of_year = dd.timetuple().tm_yday\n",
        "  '''\n",
        "  If dd is datetime.date(2024, 3, 15), which is March 15, 2024:\n",
        "  dd.timetuple() would give you a struct_time object where tm_yday is 75\n",
        "  (since March 15th is the 75th day of the year 2024).\n",
        "  In summary, day_of_year will store the ordinal position\n",
        "  of the date dd within its year.\n",
        "  '''\n",
        "  i+=1\n",
        "  birthday.append(day_of_year)\n",
        "birthday.sort()\n",
        "i = 0\n",
        "while(i<50):\n",
        "  print(birthday[i])\n",
        "  i+=1"
      ],
      "metadata": {
        "id": "ISa6OWMvKRQS"
      },
      "execution_count": null,
      "outputs": []
    },
    {
      "cell_type": "code",
      "source": [
        "import random\n",
        "import datetime\n",
        "\n",
        "def checkLeapYear(year):\n",
        "    if (year % 4 == 0 and year % 100 != 0) or (year % 400 == 0):\n",
        "        return True\n",
        "    else:\n",
        "        return False\n",
        "\n",
        "birthday = []\n",
        "i = 0\n",
        "while i < 50:\n",
        "    year = random.randint(1902, 2024)\n",
        "    month = random.randint(1, 12)\n",
        "\n",
        "    if month == 2:  # February\n",
        "        if checkLeapYear(year):\n",
        "            day = random.randint(1, 29)\n",
        "        else:\n",
        "            day = random.randint(1, 28)\n",
        "    elif month in [4, 6, 9, 11]:  # April, June, September, November\n",
        "        day = random.randint(1, 30)\n",
        "    else:  # January, March, May, July, August, October, December\n",
        "        day = random.randint(1, 31)\n",
        "\n",
        "    dd = datetime.date(year, month, day)\n",
        "    day_of_year = dd.timetuple().tm_yday\n",
        "    birthday.append(day_of_year)\n",
        "    i += 1\n",
        "\n",
        "birthday.sort()\n",
        "\n",
        "i = 0\n",
        "while i < 50:\n",
        "    print(birthday[i])\n",
        "    i += 1"
      ],
      "metadata": {
        "id": "J2JmvlAyKsYz"
      },
      "execution_count": null,
      "outputs": []
    },
    {
      "cell_type": "code",
      "source": [
        "import datetime\n",
        "print(\"Today's date\",datetime.date.today())\n",
        "print(\"Today's year\",datetime.date.today().strftime(\"%Y\"))\n",
        "print(\"Today's month\",datetime.date.today().strftime(\"%B\"))\n",
        "print(\"Today's date\",datetime.date.today().strftime(\"%d\"))\n",
        "print(\"Week number of the month\",datetime.date.today().strftime(\"%W\"))\n",
        "print(\"Weekday of the week\",datetime.date.today().strftime(\"%w\"))\n",
        "print(\"Day of the year\",datetime.date.today().strftime(\"%j\"))\n",
        "print(\"Day of the week\",datetime.date.today().strftime(\"%A\"))\n",
        "print(\"Current time\",datetime.datetime.now())"
      ],
      "metadata": {
        "colab": {
          "base_uri": "https://localhost:8080/"
        },
        "id": "7IsSssarKzgv",
        "outputId": "4c1e3d83-dea8-4ce4-cf47-00d997c8a0ff"
      },
      "execution_count": 10,
      "outputs": [
        {
          "output_type": "stream",
          "name": "stdout",
          "text": [
            "Today's date 2025-04-25\n",
            "Today's year 2025\n",
            "Today's month April\n",
            "Today's date 25\n",
            "Week number of the month 16\n",
            "Weekday of the week 5\n",
            "Day of the year 115\n",
            "Day of the week Friday\n",
            "Current time 2025-04-25 23:05:29.236527\n"
          ]
        }
      ]
    },
    {
      "cell_type": "markdown",
      "source": [
        "#Guess the movie name"
      ],
      "metadata": {
        "id": "-IaaDsh0K7vA"
      }
    },
    {
      "cell_type": "code",
      "source": [
        "import random\n",
        "movies = ['Anand', 'Drishyam','Nayakan', 'Gol Maal', 'Vikram Vedha', 'Black Friday','Dangal', 'Taare Zameen Par']\n",
        "\n",
        "def play():\n",
        "  p1name = input(\"Enter your name player 1: \")\n",
        "  p2name = input(\"Enter your name player 2: \")\n",
        "  pp1 = 0\n",
        "  pp2 = 0\n",
        "  turn = 0\n",
        "  willing = True\n",
        "  while willing:\n",
        "    if turn:\n",
        "      #player 1\n",
        "      print(p1name, 'Your turn')\n",
        "      picked_movie = random.choice(movies)\n",
        "      qn = create_question(picked_movie)\n",
        "      print(qn)\n",
        "      modified_qn = qn\n",
        "      not_said = True\n",
        "      while not_said:\n",
        "        ch = input(\"Guess letter: \")\n",
        "        if(is_present(ch,picked_movie)):\n",
        "          #unlock\n",
        "          modified_qn = unlock(modified_qn,picked_movie,ch)\n",
        "          print(modified_qn)\n",
        "          d = input(\"Press 1 to guess movie or 2 to unlock another letter: \")\n",
        "          if d = 1:\n",
        "            ans=input(\"Enter movie name\")\n",
        "            if ans === picked_movie\n",
        "              pp1+=1\n",
        "              print(\"Correct \")\n",
        "              not_said = false\n",
        "              print(p1name,\"your score: \",pp1)\n",
        "            else:\n",
        "              print(\"wrong answer. try again\")\n",
        "        else:\n",
        "          print(ch, 'not present')\n",
        "      turn = 0\n",
        "    else:\n",
        "      print(p2name, 'Your turn')\n",
        "      picked_movie = random.choice(movies)\n",
        "      qn = create_question(picked_movie)\n",
        "      print(qn)\n",
        "      not_said = True\n",
        "      while not_said:\n",
        "        ch = input(\"Guess letter: \")\n",
        "        if(is_present(ch,picked_movie)):\n",
        "          #unlock\n",
        "        else:\n",
        "          print(ch, 'not present')\n",
        "      turn = 1\n",
        "\n",
        "      # continue or not ?\n",
        "      c = input(\"press 1 to continue or 0 to quit\")\n",
        "      if c==0:\n",
        "        print(p1name,pp1)\n",
        "        print(p2name,pp2)\n",
        "        print(\"Game Over\")\n",
        "        willing = False\n",
        "play()"
      ],
      "metadata": {
        "id": "x3OkV5nFK84f"
      },
      "execution_count": null,
      "outputs": []
    },
    {
      "cell_type": "markdown",
      "source": [
        "#Programming Assignment"
      ],
      "metadata": {
        "id": "48adU0d9LId6"
      }
    },
    {
      "cell_type": "markdown",
      "source": [
        "Create a Python program that identifies the presence of a \"saddle point\" in a given matrix. A saddle point is defined as an element in the matrix that is the smallest in its row and the largest in its column. The matrix is represented as a nested list, where each nested list corresponds to a row of the matrix. The program should determine if at least one saddle point exists in the matrix. If a saddle point is found, the program/function should print 1; otherwise, it should print 0.\n",
        "\n",
        "Input Format:\n",
        "The first input is an integer r , the number of rows in the matrix.\n",
        "The second input is an integer c, the number of columns in the matrix.\n",
        "The next r lines each contain c integers, representing the elements of each row of the matrix.\n",
        "\n",
        "\n",
        "Output Format:\n",
        "The output is 1 if a saddle point exists, otherwise 0.\n",
        "\n",
        "\n",
        "Example:\n",
        "\n",
        "Input:\n",
        "\n",
        "```\n",
        "3\n",
        "3\n",
        "2 0 3\n",
        "2 1 4\n",
        "4 2 6\n",
        "```\n",
        "\n",
        "Output:\n",
        "1\n",
        "\n",
        "Reason:\n",
        "Element 2 in third row and second column is minimum in its row and maximum in its column.\n",
        "So, it is a saddle point."
      ],
      "metadata": {
        "id": "FsBlP3mtLPL2"
      }
    },
    {
      "cell_type": "code",
      "source": [
        "r = int(input())\n",
        "c = int(input())\n",
        "matrix = []\n",
        "for _ in range(r):\n",
        "    row = list(map(int, input().split()))\n",
        "    matrix.append(row)\n",
        "\n",
        "def find_saddle_points(matrix,r,c):\n",
        "  \"\"\"\n",
        "  matrix: Nested list(list of list) represents a matrix\n",
        "  r: Number of rows\n",
        "  c: Number of columns\n",
        "  \"\"\"\n",
        "  is_saddle_point = False\n",
        "  for i in range(r):\n",
        "    # Find the smallest element in the row\n",
        "    row_min = min(matrix[i])\n",
        "    min_col_index = matrix[i].index(row_min)\n",
        "\n",
        "    # Check if it's the largest in its column\n",
        "    is_saddle_point = True\n",
        "    for j in range(r):\n",
        "        if matrix[j][min_col_index] > row_min:\n",
        "            is_saddle_point = False\n",
        "            break\n",
        "\n",
        "    if is_saddle_point:\n",
        "        print(1) # Saddle point found\n",
        "        break\n",
        "  if(is_saddle_point == False):\n",
        "    print(0)\n",
        "\n",
        "find_saddle_points(matrix,r,c)"
      ],
      "metadata": {
        "id": "7bn6l86YLLfy"
      },
      "execution_count": null,
      "outputs": []
    },
    {
      "cell_type": "markdown",
      "source": [
        "Create a Python program that multiplies the transpose of a given matrix by a scalar. The program should prompt the user to input the dimensions of the matrix, the elements of the matrix, and the scalar value. The program should then compute the transpose of the matrix, multiply it by the scalar, and print the resulting matrix.\n",
        "\n",
        "Input:\n",
        "The first input is an integer 𝑟 , the number of rows in the matrix.\n",
        "The second input is an integer 𝑐 , the number of columns in the matrix.\n",
        "The next 𝑟 lines each contain 𝑐 integers, representing the elements of the matrix.\n",
        "The final input is an integer 𝑠, representing the scalar value.\n",
        "Output Format:\n",
        "The output consists of 𝑐 lines, each containing 𝑟 integers, representing the elements of the resulting matrix after multiplying the transpose of the original matrix by the scalar.\n",
        "\n",
        "\n",
        "Example:\n",
        "\n",
        "Input:\n",
        "```\n",
        "2\n",
        "3\n",
        "1 2 3\n",
        "4 5 6\n",
        "2\n",
        "```\n",
        "Output:\n",
        "```\n",
        "2 8\n",
        "4 10\n",
        "6 12\n",
        "```"
      ],
      "metadata": {
        "id": "m2GQfNrJLtoJ"
      }
    },
    {
      "cell_type": "code",
      "source": [
        "def transpose_and_multiply(matrix, scalar):\n",
        "    r = len(matrix)\n",
        "    c = len(matrix[0])\n",
        "\n",
        "    # Transpose the matrix\n",
        "    transpose = []\n",
        "    for i in range(c):\n",
        "        new_row = []\n",
        "        for j in range(r):\n",
        "            new_row.append(matrix[j][i])\n",
        "        transpose.append(new_row)\n",
        "\n",
        "    # Multiply the transpose by the scalar\n",
        "    result = []\n",
        "    for row in transpose:\n",
        "        result_row = [element * scalar for element in row]\n",
        "        result.append(result_row)\n",
        "\n",
        "    return result\n",
        "\n",
        "def main():\n",
        "    # Input dimensions of the matrix\n",
        "    r = int(input())\n",
        "    c = int(input())\n",
        "\n",
        "    # Input matrix elements\n",
        "    matrix = []\n",
        "    for _ in range(r):\n",
        "        row = list(map(int, input().split()))\n",
        "        matrix.append(row)\n",
        "\n",
        "    # Input the scalar value\n",
        "    scalar = int(input())\n",
        "\n",
        "    # Get the result of transpose multiplied by scalar\n",
        "    result = transpose_and_multiply(matrix, scalar)\n",
        "\n",
        "    # Print the resulting matrix\n",
        "    for row in result:\n",
        "        print(\" \".join(map(str, row)))\n",
        "\n",
        "main()"
      ],
      "metadata": {
        "id": "i4bQ-lC4K_qW"
      },
      "execution_count": null,
      "outputs": []
    },
    {
      "cell_type": "markdown",
      "source": [
        "Create a Python program that checks whether a given square matrix is skew-symmetric. A matrix is skew-symmetric if its transpose is equal to the negative of the matrix itself, i.e AT=−A\n",
        "  .The program should prompt the user to input the dimensions of the matrix and then input the matrix elements. The program should then determine whether the matrix is skew-symmetric and print 1 if it is, otherwise print 0.\n",
        "\n",
        "Input Format:\n",
        "The first input is an integer r , the number of rows and columns in the matrix.\n",
        "The next r lines each contain r integers, representing the elements of each row of the matrix.\n",
        "\n",
        "\n",
        "Output Format:\n",
        "The output is 1 if a matrix is skew-symmetric, otherwise 0.\n",
        "\n",
        "\n",
        "Example:\n",
        "\n",
        "Input:\n",
        "```\n",
        "3\n",
        "0 2 -1\n",
        "-2 0 -4\n",
        "1 4 0\n",
        "```\n",
        "Output:\n",
        "1"
      ],
      "metadata": {
        "id": "kg6kyvFbMIcj"
      }
    },
    {
      "cell_type": "code",
      "source": [
        "def is_skew_symmetric(matrix, n):\n",
        "    for i in range(n):\n",
        "        for j in range(n):\n",
        "            if matrix[i][j] != -matrix[j][i]:\n",
        "                return 0  # The matrix is not skew-symmetric\n",
        "    return 1  # The matrix is skew-symmetric\n",
        "\n",
        "def main():\n",
        "    n = int(input())\n",
        "    matrix = []\n",
        "    for _ in range(n):\n",
        "        row = list(map(int, input().split()))\n",
        "        matrix.append(row)\n",
        "\n",
        "    result = is_skew_symmetric(matrix, n)\n",
        "    print(result)\n",
        "\n",
        "\n",
        "main()"
      ],
      "metadata": {
        "id": "TTHv3jZAMLEi"
      },
      "execution_count": null,
      "outputs": []
    }
  ]
}