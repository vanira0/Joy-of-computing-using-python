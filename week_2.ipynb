{
  "nbformat": 4,
  "nbformat_minor": 0,
  "metadata": {
    "colab": {
      "provenance": [],
      "authorship_tag": "ABX9TyNShgKp2PSgY/I2vbAV19ou"
    },
    "kernelspec": {
      "name": "python3",
      "display_name": "Python 3"
    },
    "language_info": {
      "name": "python"
    }
  },
  "cells": [
    {
      "cell_type": "markdown",
      "source": [
        "Create a Python program that calculates the absolute value of a given number.\n",
        "The program should prompt the user to input a number, then compute and print the absolute value of that number.\n",
        "\n",
        "Input Format-\n",
        "The input consists of single number.\n",
        "\n",
        "Output Format-\n",
        "The output consists of absolute value of the input.\n",
        "\n",
        "Example-\n",
        "Input:\n",
        "-6\n",
        "Output:\n",
        "6"
      ],
      "metadata": {
        "id": "M0gfMNFmAn4i"
      }
    },
    {
      "cell_type": "code",
      "execution_count": 8,
      "metadata": {
        "colab": {
          "base_uri": "https://localhost:8080/"
        },
        "id": "cmH2ul-N_kSV",
        "outputId": "0251aa6c-974e-45f7-f235-82f5969381db"
      },
      "outputs": [
        {
          "output_type": "stream",
          "name": "stdout",
          "text": [
            "-6\n",
            "6\n"
          ]
        }
      ],
      "source": [
        "n = int(input())\n",
        "abs_n = abs(n)\n",
        "print(abs_n)"
      ]
    },
    {
      "cell_type": "markdown",
      "source": [
        "Create a Python program to determine the nth element of an arithmetic sequence where the first term a is 7 and the common difference d is 11. The program should prompt the user to input the value of n, then compute and print the nth element of the sequence.\n",
        "\n",
        "Input Format:\n",
        "The input consists of a single integer n.\n",
        "\n",
        "Output Format:\n",
        "\n",
        "The output consists of the nth element of the arithmetic sequence.\n",
        "\n",
        "Example:\n",
        "Input:\n",
        "3\n",
        "Output:\n",
        "29"
      ],
      "metadata": {
        "id": "IIrux-QsB1yx"
      }
    },
    {
      "cell_type": "code",
      "source": [
        "a = 7\n",
        "d = 11\n",
        "\n",
        "n = int(input())\n",
        "nth_element = a + (n - 1) * d\n",
        "print(nth_element)"
      ],
      "metadata": {
        "colab": {
          "base_uri": "https://localhost:8080/"
        },
        "id": "3csW72-lBz3B",
        "outputId": "a906344a-d404-4a3a-89e1-027a6e68c498"
      },
      "execution_count": 6,
      "outputs": [
        {
          "output_type": "stream",
          "name": "stdout",
          "text": [
            "3\n",
            "29\n"
          ]
        }
      ]
    },
    {
      "cell_type": "markdown",
      "source": [
        "Create a Python program to compute the sum of the first N natural numbers {1,2,3...N}. The program should prompt the user to input the value of N, then compute and print the sum of the first N natural numbers.\n",
        "\n",
        "\n",
        "Input Format:\n",
        "The input consists of a single integer N.\n",
        "\n",
        "Output Format:\n",
        "The output consists of the sum of the first N natural numbers.\n",
        "\n",
        "Example:\n",
        "Input-\n",
        "5\n",
        "Output-\n",
        "15"
      ],
      "metadata": {
        "id": "TwkQoES4CUat"
      }
    },
    {
      "cell_type": "code",
      "source": [
        "N = int(input())\n",
        "sum_of_natural_numbers = N * (N + 1) // 2\n",
        "print(sum_of_natural_numbers,end='')"
      ],
      "metadata": {
        "colab": {
          "base_uri": "https://localhost:8080/"
        },
        "id": "aLVOrccOCbnO",
        "outputId": "06c6c2ea-395e-4d08-f324-5560d98ae9da"
      },
      "execution_count": 7,
      "outputs": [
        {
          "output_type": "stream",
          "name": "stdout",
          "text": [
            "5\n",
            "15"
          ]
        }
      ]
    },
    {
      "cell_type": "code",
      "source": [],
      "metadata": {
        "id": "mUFHYHP8CnWu"
      },
      "execution_count": null,
      "outputs": []
    }
  ]
}